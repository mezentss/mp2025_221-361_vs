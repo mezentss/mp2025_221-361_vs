{
 "cells": [
  {
   "cell_type": "markdown",
   "metadata": {},
   "source": [
    "# Форматирование строк"
   ]
  },
  {
   "cell_type": "code",
   "execution_count": 5,
   "metadata": {
    "dotnet_interactive": {
     "language": "csharp"
    },
    "polyglot_notebook": {
     "kernelName": "csharp"
    },
    "vscode": {
     "languageId": "polyglot-notebook"
    }
   },
   "outputs": [
    {
     "name": "stdout",
     "output_type": "stream",
     "text": [
      "Ваня19\n",
      "Ваня19\n",
      "Ваня_19_19\n",
      "Ваня19\n"
     ]
    }
   ],
   "source": [
    "var name = \"Ваня\";\n",
    "var age = 19;\n",
    "Console.WriteLine(name + age);\n",
    "Console.WriteLine($\"{name}{age}\");\n",
    "Console.WriteLine(String.Join(\"_\", name, age, age));\n",
    "Console.WriteLine(String.Format(\"{0}{1}\", name, age));"
   ]
  },
  {
   "cell_type": "code",
   "execution_count": 12,
   "metadata": {
    "dotnet_interactive": {
     "language": "csharp"
    },
    "polyglot_notebook": {
     "kernelName": "csharp"
    },
    "vscode": {
     "languageId": "polyglot-notebook"
    }
   },
   "outputs": [
    {
     "name": "stdout",
     "output_type": "stream",
     "text": [
      "0,16666666666666666\n",
      "0,16666666666666666\n",
      "0,167\n",
      "0,16667\n",
      "16,667 %\n",
      "17 %\n",
      "1,666667E-001\n",
      "0,16667\n"
     ]
    }
   ],
   "source": [
    "var v = 1 / 6.0;\n",
    "Console.WriteLine(v);\n",
    "Console.WriteLine($\"{v}\");\n",
    "Console.WriteLine($\"{v:F}\");\n",
    "Console.WriteLine($\"{v:F5}\");\n",
    "Console.WriteLine($\"{v:P}\");\n",
    "Console.WriteLine($\"{v:P0}\");\n",
    "Console.WriteLine($\"{v:E}\");\n",
    "Console.WriteLine(v.ToString(\"F5\"));\n"
   ]
  },
  {
   "cell_type": "code",
   "execution_count": 18,
   "metadata": {
    "dotnet_interactive": {
     "language": "csharp"
    },
    "polyglot_notebook": {
     "kernelName": "csharp"
    },
    "vscode": {
     "languageId": "polyglot-notebook"
    }
   },
   "outputs": [
    {
     "name": "stdout",
     "output_type": "stream",
     "text": [
      "1666666,6666666667\n",
      "1 666 666,667\n",
      "1 666 666,67\n",
      "1 666 666,67 ¤\n",
      "1 666 666,7 ¤\n"
     ]
    }
   ],
   "source": [
    "var v = 1 / 0.000_000_6;\n",
    "Console.WriteLine(v);\n",
    "Console.WriteLine($\"{v:N}\");\n",
    "Console.WriteLine($\"{v:N2}\");\n",
    "Console.WriteLine($\"{v:C}\");\n",
    "Console.WriteLine($\"{v:C1}\");"
   ]
  },
  {
   "cell_type": "code",
   "execution_count": 19,
   "metadata": {
    "dotnet_interactive": {
     "language": "csharp"
    },
    "polyglot_notebook": {
     "kernelName": "csharp"
    },
    "vscode": {
     "languageId": "polyglot-notebook"
    }
   },
   "outputs": [
    {
     "name": "stdout",
     "output_type": "stream",
     "text": [
      "11111111\n",
      "255\n",
      "FF\n"
     ]
    }
   ],
   "source": [
    "var n = 255;\n",
    "Console.WriteLine($\"{n:B}\");\n",
    "Console.WriteLine($\"{n:D}\");\n",
    "Console.WriteLine($\"{n:X}\");"
   ]
  },
  {
   "cell_type": "code",
   "execution_count": 24,
   "metadata": {
    "dotnet_interactive": {
     "language": "csharp"
    },
    "polyglot_notebook": {
     "kernelName": "csharp"
    },
    "vscode": {
     "languageId": "polyglot-notebook"
    }
   },
   "outputs": [
    {
     "name": "stdout",
     "output_type": "stream",
     "text": [
      "255\n",
      "255\n",
      "15\n"
     ]
    }
   ],
   "source": [
    "Console.WriteLine(Convert.ToInt32(\"11111111\", 2));\n",
    "Console.WriteLine(Convert.ToInt32(\"377\", 8));\n",
    "Console.WriteLine(Convert.ToInt32(\"F\", 16));"
   ]
  },
  {
   "cell_type": "code",
   "execution_count": 28,
   "metadata": {
    "dotnet_interactive": {
     "language": "csharp"
    },
    "polyglot_notebook": {
     "kernelName": "csharp"
    },
    "vscode": {
     "languageId": "polyglot-notebook"
    }
   },
   "outputs": [
    {
     "name": "stdout",
     "output_type": "stream",
     "text": [
      "15\n",
      "255\n",
      "15\n",
      "255\n",
      "16777215\n"
     ]
    }
   ],
   "source": [
    "Console.WriteLine(0b1111);\n",
    "Console.WriteLine(0b_1111_1111);\n",
    "Console.WriteLine(0xF);\n",
    "Console.WriteLine(0xFF);\n",
    "Console.WriteLine(0xFF_FF_FF);\n"
   ]
  },
  {
   "cell_type": "code",
   "execution_count": 29,
   "metadata": {
    "dotnet_interactive": {
     "language": "csharp"
    },
    "polyglot_notebook": {
     "kernelName": "csharp"
    },
    "vscode": {
     "languageId": "polyglot-notebook"
    }
   },
   "outputs": [
    {
     "name": "stdout",
     "output_type": "stream",
     "text": [
      "Ваня\n",
      "    Ваня\n",
      "Ваня    \n"
     ]
    }
   ],
   "source": [
    "var name = \"Ваня\";\n",
    "Console.WriteLine($\"{name}\");\n",
    "Console.WriteLine($\"{name, 8}\");\n",
    "Console.WriteLine($\"{name, -8}\");"
   ]
  },
  {
   "cell_type": "code",
   "execution_count": null,
   "metadata": {
    "dotnet_interactive": {
     "language": "csharp"
    },
    "polyglot_notebook": {
     "kernelName": "csharp"
    },
    "vscode": {
     "languageId": "polyglot-notebook"
    }
   },
   "outputs": [
    {
     "name": "stdout",
     "output_type": "stream",
     "text": [
      "123\n",
      "__1 23\n",
      "0__1 23\n"
     ]
    }
   ],
   "source": [
    "var n = 123;\n",
    "Console.WriteLine($\"{n}\");\n",
    "Console.WriteLine($\"{n:###__# ##}\");\n",
    "Console.WriteLine($\"{n:000__0 00}\");"
   ]
  },
  {
   "cell_type": "code",
   "execution_count": 37,
   "metadata": {
    "dotnet_interactive": {
     "language": "csharp"
    },
    "polyglot_notebook": {
     "kernelName": "csharp"
    },
    "vscode": {
     "languageId": "polyglot-notebook"
    }
   },
   "outputs": [
    {
     "name": "stdout",
     "output_type": "stream",
     "text": [
      "+7 (006) 111-22-33\r\n"
     ]
    }
   ],
   "source": [
    "var n = 6_111_22_33;\n",
    "Console.WriteLine($\"{n:+7 (000) ###-##-##}\")"
   ]
  }
 ],
 "metadata": {
  "kernelspec": {
   "display_name": ".NET (C#)",
   "language": "C#",
   "name": ".net-csharp"
  },
  "language_info": {
   "name": "csharp"
  },
  "polyglot_notebook": {
   "kernelInfo": {
    "defaultKernelName": "csharp",
    "items": [
     {
      "aliases": [],
      "name": "csharp"
     }
    ]
   }
  }
 },
 "nbformat": 4,
 "nbformat_minor": 2
}
