{
 "cells": [
  {
   "cell_type": "code",
   "execution_count": 2,
   "id": "f7bd5111",
   "metadata": {
    "polyglot_notebook": {
     "kernelName": "csharp"
    },
    "vscode": {
     "languageId": "polyglot-notebook"
    }
   },
   "outputs": [
    {
     "name": "stdout",
     "output_type": "stream",
     "text": [
      "Пример 1: Стандартное поле 4x4\n",
      "E F E G \n",
      "B B H D \n",
      "H A C G \n",
      "A C F D \n",
      "\n",
      "Пример 2: Поле 3x6 с тройками\n",
      "E A E F B D \n",
      "D C F C B D \n",
      "C B E A F A \n",
      "\n",
      "Пример 3: Поле 4x5 с четверками\n",
      "A E E B C \n",
      "D E B D C \n",
      "B A B C D \n",
      "A E A D C \n"
     ]
    }
   ],
   "source": [
    "using System;\n",
    "using System.Collections.Generic;\n",
    "using System.Linq;\n",
    "\n",
    "public class MemoryCardGame\n",
    "{\n",
    "    private readonly Random _random = new Random();\n",
    "\n",
    "    public char[,] CreateGameBoard(int rows, int columns, string symbolSet, int cardsInGroup = 2)\n",
    "    {\n",
    "        ValidateParameters(rows, columns, symbolSet, cardsInGroup);\n",
    "\n",
    "        int totalCards = rows * columns;\n",
    "        int requiredUniqueSymbols = totalCards / cardsInGroup;\n",
    "\n",
    "        var gameSymbols = PrepareGameSymbols(symbolSet, requiredUniqueSymbols, cardsInGroup);\n",
    "        \n",
    "        return CreateAndFillBoard(rows, columns, gameSymbols);\n",
    "    }\n",
    "\n",
    "    private void ValidateParameters(int rows, int columns, string symbolSet, int cardsInGroup)\n",
    "    {\n",
    "        if (rows <= 0 || columns <= 0)\n",
    "            throw new ArgumentException(\"Количество строк и столбцов должно быть положительным\");\n",
    "\n",
    "        if (cardsInGroup < 2 || cardsInGroup > 4)\n",
    "            throw new ArgumentException(\"Количество карточек в группе должно быть от 2 до 4\");\n",
    "\n",
    "        if (string.IsNullOrEmpty(symbolSet))\n",
    "            throw new ArgumentException(\"Набор символов не может быть пустым\");\n",
    "\n",
    "        int totalCards = rows * columns;\n",
    "        if (totalCards % cardsInGroup != 0)\n",
    "            throw new ArgumentException($\"Общее количество карточек {rows}x{columns}={totalCards} должно делиться на {cardsInGroup}\");\n",
    "\n",
    "        int requiredUniqueSymbols = totalCards / cardsInGroup;\n",
    "        if (symbolSet.Length < requiredUniqueSymbols)\n",
    "            throw new ArgumentException($\"Недостаточно символов. Нужно {requiredUniqueSymbols}, а доступно {symbolSet.Length}\");\n",
    "    }\n",
    "\n",
    "    private List<char> PrepareGameSymbols(string symbolSet, int uniqueSymbolsCount, int repetitions)\n",
    "    {\n",
    "        var selectedSymbols = symbolSet.Take(uniqueSymbolsCount).ToList();\n",
    "        var symbolsWithRepetitions = new List<char>();\n",
    "\n",
    "        foreach (var symbol in selectedSymbols)\n",
    "        {\n",
    "            symbolsWithRepetitions.AddRange(Enumerable.Repeat(symbol, repetitions));\n",
    "        }\n",
    "\n",
    "        return Shuffle(symbolsWithRepetitions);\n",
    "    }\n",
    "\n",
    "    private List<char> Shuffle(List<char> list)\n",
    "    {\n",
    "        return list.OrderBy(_ => _random.Next()).ToList();\n",
    "    }\n",
    "\n",
    "    private char[,] CreateAndFillBoard(int rows, int columns, List<char> symbols)\n",
    "    {\n",
    "        var board = new char[rows, columns];\n",
    "        int symbolIndex = 0;\n",
    "\n",
    "        for (int i = 0; i < rows; i++)\n",
    "        {\n",
    "            for (int j = 0; j < columns; j++)\n",
    "            {\n",
    "                board[i, j] = symbols[symbolIndex++];\n",
    "            }\n",
    "        }\n",
    "\n",
    "        return board;\n",
    "    }\n",
    "\n",
    "    public void DisplayBoard(char[,] board)\n",
    "    {\n",
    "        int rows = board.GetLength(0);\n",
    "        int columns = board.GetLength(1);\n",
    "\n",
    "        for (int i = 0; i < rows; i++)\n",
    "        {\n",
    "            for (int j = 0; j < columns; j++)\n",
    "            {\n",
    "                Console.Write(board[i, j] + \" \");\n",
    "            }\n",
    "            Console.WriteLine();\n",
    "        }\n",
    "    }\n",
    "}\n",
    "\n",
    "// Основной код программы\n",
    "var game = new MemoryCardGame();\n",
    "\n",
    "Console.WriteLine(\"Пример 1: Стандартное поле 4x4\");\n",
    "var board1 = game.CreateGameBoard(4, 4, \"ABCDEFGHIJKLMNOP\");\n",
    "game.DisplayBoard(board1);\n",
    "\n",
    "Console.WriteLine(\"\\nПример 2: Поле 3x6 с тройками\");\n",
    "var board2 = game.CreateGameBoard(3, 6, \"ABCDEFGHIJKL\", 3);\n",
    "game.DisplayBoard(board2);\n",
    "\n",
    "Console.WriteLine(\"\\nПример 3: Поле 4x5 с четверками\");\n",
    "var board3 = game.CreateGameBoard(4, 5, \"ABCDE\", 4);\n",
    "game.DisplayBoard(board3);"
   ]
  }
 ],
 "metadata": {
  "kernelspec": {
   "display_name": ".NET (C#)",
   "language": "C#",
   "name": ".net-csharp"
  },
  "language_info": {
   "name": "csharp"
  },
  "polyglot_notebook": {
   "kernelInfo": {
    "defaultKernelName": "csharp",
    "items": [
     {
      "aliases": [],
      "name": "csharp"
     }
    ]
   }
  }
 },
 "nbformat": 4,
 "nbformat_minor": 5
}
